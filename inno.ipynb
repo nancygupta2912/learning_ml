{
 "cells": [
  {
   "cell_type": "code",
   "execution_count": 1,
   "id": "26b860bb",
   "metadata": {},
   "outputs": [],
   "source": [
    "string=\"INNOGEEKS\""
   ]
  },
  {
   "cell_type": "code",
   "execution_count": 2,
   "id": "a03478aa",
   "metadata": {},
   "outputs": [
    {
     "data": {
      "text/plain": [
       "'NOG'"
      ]
     },
     "execution_count": 2,
     "metadata": {},
     "output_type": "execute_result"
    }
   ],
   "source": [
    "string[2:5]"
   ]
  },
  {
   "cell_type": "code",
   "execution_count": 3,
   "id": "c3d91bea",
   "metadata": {
    "scrolled": true
   },
   "outputs": [
    {
     "ename": "NameError",
     "evalue": "name 'stringz' is not defined",
     "output_type": "error",
     "traceback": [
      "\u001b[1;31m---------------------------------------------------------------------------\u001b[0m",
      "\u001b[1;31mNameError\u001b[0m                                 Traceback (most recent call last)",
      "Cell \u001b[1;32mIn[3], line 1\u001b[0m\n\u001b[1;32m----> 1\u001b[0m stringz\n",
      "\u001b[1;31mNameError\u001b[0m: name 'stringz' is not defined"
     ]
    }
   ],
   "source": []
  },
  {
   "cell_type": "code",
   "execution_count": 4,
   "id": "783ed6cd",
   "metadata": {},
   "outputs": [
    {
     "data": {
      "text/plain": [
       "'INNOGEEKS'"
      ]
     },
     "execution_count": 4,
     "metadata": {},
     "output_type": "execute_result"
    }
   ],
   "source": [
    "string"
   ]
  },
  {
   "cell_type": "markdown",
   "id": "65183fc5",
   "metadata": {},
   "source": [
    "# New File\n"
   ]
  },
  {
   "cell_type": "raw",
   "id": "ebfb1d26",
   "metadata": {},
   "source": [
    "Python"
   ]
  },
  {
   "cell_type": "raw",
   "id": "374ef2b5",
   "metadata": {},
   "source": [
    "PYTHON"
   ]
  },
  {
   "cell_type": "code",
   "execution_count": null,
   "id": "181d4d17",
   "metadata": {},
   "outputs": [],
   "source": [
    "HELLO"
   ]
  },
  {
   "cell_type": "code",
   "execution_count": null,
   "id": "1a5b79f3",
   "metadata": {},
   "outputs": [],
   "source": []
  },
  {
   "cell_type": "markdown",
   "id": "00a0b5a4",
   "metadata": {},
   "source": [
    "New"
   ]
  },
  {
   "cell_type": "code",
   "execution_count": 5,
   "id": "28ef9182",
   "metadata": {},
   "outputs": [],
   "source": [
    "String=\"Hello World\""
   ]
  },
  {
   "cell_type": "code",
   "execution_count": 6,
   "id": "436e2423",
   "metadata": {},
   "outputs": [],
   "source": [
    "x=\"ARUN\""
   ]
  },
  {
   "cell_type": "code",
   "execution_count": 7,
   "id": "1304a9e8",
   "metadata": {},
   "outputs": [],
   "source": [
    "y=\"SHETTY\""
   ]
  },
  {
   "cell_type": "code",
   "execution_count": 8,
   "id": "73c347fd",
   "metadata": {},
   "outputs": [],
   "source": [
    "z=x[0]+y[::]"
   ]
  },
  {
   "cell_type": "code",
   "execution_count": 9,
   "id": "d338d9a5",
   "metadata": {},
   "outputs": [
    {
     "name": "stdout",
     "output_type": "stream",
     "text": [
      "ASHETTY\n"
     ]
    }
   ],
   "source": [
    "print(z)"
   ]
  },
  {
   "cell_type": "code",
   "execution_count": 10,
   "id": "d5de65bf",
   "metadata": {},
   "outputs": [],
   "source": [
    "z=x[0]+\" \"+y[::]"
   ]
  },
  {
   "cell_type": "code",
   "execution_count": 11,
   "id": "25241186",
   "metadata": {},
   "outputs": [
    {
     "data": {
      "text/plain": [
       "'A SHETTY'"
      ]
     },
     "execution_count": 11,
     "metadata": {},
     "output_type": "execute_result"
    }
   ],
   "source": [
    "z"
   ]
  },
  {
   "cell_type": "code",
   "execution_count": 12,
   "id": "b76fc407",
   "metadata": {},
   "outputs": [
    {
     "name": "stdout",
     "output_type": "stream",
     "text": [
      "A SHETTY\n"
     ]
    }
   ],
   "source": [
    "print(z)"
   ]
  },
  {
   "cell_type": "code",
   "execution_count": 1,
   "id": "ecb65de4",
   "metadata": {},
   "outputs": [
    {
     "name": "stdout",
     "output_type": "stream",
     "text": [
      "Enter your name:Nancy \n",
      "My name is Nancy \n"
     ]
    }
   ],
   "source": [
    "a=input(\"Enter your name:\")\n",
    "print(\"My name is \" +a)"
   ]
  },
  {
   "cell_type": "code",
   "execution_count": 2,
   "id": "04de592a",
   "metadata": {},
   "outputs": [
    {
     "name": "stdout",
     "output_type": "stream",
     "text": [
      "Enter your age:17\n"
     ]
    },
    {
     "ename": "TypeError",
     "evalue": "can only concatenate str (not \"int\") to str",
     "output_type": "error",
     "traceback": [
      "\u001b[1;31m---------------------------------------------------------------------------\u001b[0m",
      "\u001b[1;31mTypeError\u001b[0m                                 Traceback (most recent call last)",
      "Cell \u001b[1;32mIn[2], line 2\u001b[0m\n\u001b[0;32m      1\u001b[0m b\u001b[38;5;241m=\u001b[39m\u001b[38;5;28mint\u001b[39m(\u001b[38;5;28minput\u001b[39m(\u001b[38;5;124m\"\u001b[39m\u001b[38;5;124mEnter your age:\u001b[39m\u001b[38;5;124m\"\u001b[39m))\n\u001b[1;32m----> 2\u001b[0m \u001b[38;5;28mprint\u001b[39m(a\u001b[38;5;241m+\u001b[39m\u001b[38;5;124m\"\u001b[39m\u001b[38;5;124m is \u001b[39m\u001b[38;5;124m\"\u001b[39m\u001b[38;5;241m+\u001b[39m b \u001b[38;5;241m+\u001b[39m\u001b[38;5;124m\"\u001b[39m\u001b[38;5;124m years old\u001b[39m\u001b[38;5;124m\"\u001b[39m)\n",
      "\u001b[1;31mTypeError\u001b[0m: can only concatenate str (not \"int\") to str"
     ]
    }
   ],
   "source": [
    "b=int(input(\"Enter your age:\"))\n",
    "print(a+\" is \"+ b +\" years old\")"
   ]
  },
  {
   "cell_type": "code",
   "execution_count": 3,
   "id": "5364fc7d",
   "metadata": {},
   "outputs": [
    {
     "ename": "SyntaxError",
     "evalue": "incomplete input (2600206474.py, line 1)",
     "output_type": "error",
     "traceback": [
      "\u001b[1;36m  Cell \u001b[1;32mIn[3], line 1\u001b[1;36m\u001b[0m\n\u001b[1;33m    print(aprint(a+\" is \"+ str(b) +\" years old\")\u001b[0m\n\u001b[1;37m                                                ^\u001b[0m\n\u001b[1;31mSyntaxError\u001b[0m\u001b[1;31m:\u001b[0m incomplete input\n"
     ]
    }
   ],
   "source": [
    "print(aprint(a+\" is \"+ str(b) +\" years old\")"
   ]
  },
  {
   "cell_type": "code",
   "execution_count": 4,
   "id": "196786fd",
   "metadata": {},
   "outputs": [
    {
     "name": "stdout",
     "output_type": "stream",
     "text": [
      "Nancy  is 17 years old\n"
     ]
    }
   ],
   "source": [
    "print(a+\" is \"+ str(b) +\" years old\")"
   ]
  },
  {
   "cell_type": "code",
   "execution_count": 5,
   "id": "9d133c9d",
   "metadata": {},
   "outputs": [
    {
     "name": "stdout",
     "output_type": "stream",
     "text": [
      "Nancy is 17 years old\n"
     ]
    }
   ],
   "source": [
    "print(f\"{a}is {b} years old\")   '''f is formatting here '''"
   ]
  },
  {
   "cell_type": "code",
   "execution_count": 6,
   "id": "0052e28e",
   "metadata": {},
   "outputs": [
    {
     "ename": "TypeError",
     "evalue": "can only concatenate str (not \"int\") to str",
     "output_type": "error",
     "traceback": [
      "\u001b[1;31m---------------------------------------------------------------------------\u001b[0m",
      "\u001b[1;31mTypeError\u001b[0m                                 Traceback (most recent call last)",
      "Cell \u001b[1;32mIn[6], line 1\u001b[0m\n\u001b[1;32m----> 1\u001b[0m \u001b[38;5;28mprint\u001b[39m(a\u001b[38;5;241m+\u001b[39m\u001b[38;5;124m\"\u001b[39m\u001b[38;5;124m is \u001b[39m\u001b[38;5;124m\"\u001b[39m\u001b[38;5;241m+\u001b[39m b \u001b[38;5;241m+\u001b[39m\u001b[38;5;124m\"\u001b[39m\u001b[38;5;124m years old\u001b[39m\u001b[38;5;124m\"\u001b[39m)\n",
      "\u001b[1;31mTypeError\u001b[0m: can only concatenate str (not \"int\") to str"
     ]
    }
   ],
   "source": [
    "print(a+\" is \"+ b +\" years old\")"
   ]
  },
  {
   "cell_type": "code",
   "execution_count": 7,
   "id": "15c72022",
   "metadata": {},
   "outputs": [
    {
     "data": {
      "text/plain": [
       "'{.format}'"
      ]
     },
     "execution_count": 7,
     "metadata": {},
     "output_type": "execute_result"
    }
   ],
   "source": [
    "'''{.format}'''"
   ]
  },
  {
   "cell_type": "code",
   "execution_count": 8,
   "id": "249a5bee",
   "metadata": {},
   "outputs": [
    {
     "ename": "SyntaxError",
     "evalue": "unterminated string literal (detected at line 2) (2389648660.py, line 2)",
     "output_type": "error",
     "traceback": [
      "\u001b[1;36m  Cell \u001b[1;32mIn[8], line 2\u001b[1;36m\u001b[0m\n\u001b[1;33m    print(f\"{first[0]+\".\"+last} is {b} years old)\u001b[0m\n\u001b[1;37m                        ^\u001b[0m\n\u001b[1;31mSyntaxError\u001b[0m\u001b[1;31m:\u001b[0m unterminated string literal (detected at line 2)\n"
     ]
    }
   ],
   "source": [
    "first,last=a.split()\n",
    "print(f\"{first[0]+\".\"+last} is {b} years old)"
   ]
  },
  {
   "cell_type": "code",
   "execution_count": 9,
   "id": "b1d9ffd7",
   "metadata": {},
   "outputs": [
    {
     "ename": "SyntaxError",
     "evalue": "f-string: expecting '}' (26734206.py, line 2)",
     "output_type": "error",
     "traceback": [
      "\u001b[1;36m  Cell \u001b[1;32mIn[9], line 2\u001b[1;36m\u001b[0m\n\u001b[1;33m    print(f\"{first[0]+\".\"+last} is {b} years old\")\u001b[0m\n\u001b[1;37m                       ^\u001b[0m\n\u001b[1;31mSyntaxError\u001b[0m\u001b[1;31m:\u001b[0m f-string: expecting '}'\n"
     ]
    }
   ],
   "source": [
    "first,last=a.split()\n",
    "print(f\"{first[0]+\".\"+last} is {b} years old\")"
   ]
  },
  {
   "cell_type": "code",
   "execution_count": 10,
   "id": "e945dd52",
   "metadata": {},
   "outputs": [
    {
     "ename": "SyntaxError",
     "evalue": "f-string: expecting '}' (26734206.py, line 2)",
     "output_type": "error",
     "traceback": [
      "\u001b[1;36m  Cell \u001b[1;32mIn[10], line 2\u001b[1;36m\u001b[0m\n\u001b[1;33m    print(f\"{first[0]+\".\"+last} is {b} years old\")\u001b[0m\n\u001b[1;37m                       ^\u001b[0m\n\u001b[1;31mSyntaxError\u001b[0m\u001b[1;31m:\u001b[0m f-string: expecting '}'\n"
     ]
    }
   ],
   "source": [
    "first,last=a.split()\n",
    "print(f\"{first[0]+\".\"+last} is {b} years old\")"
   ]
  },
  {
   "cell_type": "code",
   "execution_count": 11,
   "id": "d79c1025",
   "metadata": {},
   "outputs": [
    {
     "ename": "SyntaxError",
     "evalue": "invalid syntax (963272418.py, line 1)",
     "output_type": "error",
     "traceback": [
      "\u001b[1;36m  Cell \u001b[1;32mIn[11], line 1\u001b[1;36m\u001b[0m\n\u001b[1;33m    a=Nancy Gupta\u001b[0m\n\u001b[1;37m            ^\u001b[0m\n\u001b[1;31mSyntaxError\u001b[0m\u001b[1;31m:\u001b[0m invalid syntax\n"
     ]
    }
   ],
   "source": [
    "a=Nancy Gupta"
   ]
  },
  {
   "cell_type": "code",
   "execution_count": 24,
   "id": "960253bc",
   "metadata": {},
   "outputs": [],
   "source": [
    "email=\"nancygupta@gmail.com\""
   ]
  },
  {
   "cell_type": "code",
   "execution_count": 14,
   "id": "47456c03",
   "metadata": {},
   "outputs": [
    {
     "name": "stdout",
     "output_type": "stream",
     "text": [
      "N.Gupta is 17 years old\n"
     ]
    }
   ],
   "source": [
    "first,last=a.split()\n",
    "print(f\"{first[0]+'.'+last} is {b} years old\")"
   ]
  },
  {
   "cell_type": "code",
   "execution_count": 16,
   "id": "9c8d5658",
   "metadata": {},
   "outputs": [
    {
     "name": "stdout",
     "output_type": "stream",
     "text": [
      "Enter your name:NaNCy GuPTa\n",
      "Nancy Gupta\n",
      "NaNCy GuPTa\n",
      "nancy gupta\n",
      "NANCY GUPTA\n",
      "NaNCy GuPTa\n"
     ]
    }
   ],
   "source": [
    "name=input(\"Enter your name:\")\n",
    "print(name.title())\n",
    "print(name.strip())\n",
    "print(name.lower())\n",
    "print(name.upper())\n",
    "print(name.center(0))"
   ]
  },
  {
   "cell_type": "code",
   "execution_count": 17,
   "id": "0545bd06",
   "metadata": {},
   "outputs": [
    {
     "name": "stdout",
     "output_type": "stream",
     "text": [
      "NaNCy GuPTa\n"
     ]
    }
   ],
   "source": [
    "print(name.center(1))"
   ]
  },
  {
   "cell_type": "code",
   "execution_count": 18,
   "id": "52bd4a37",
   "metadata": {},
   "outputs": [],
   "source": [
    "new=\"              NAncy Gupta\""
   ]
  },
  {
   "cell_type": "code",
   "execution_count": 22,
   "id": "2ff4186e",
   "metadata": {},
   "outputs": [
    {
     "name": "stdout",
     "output_type": "stream",
     "text": [
      "<class 'str'>\n"
     ]
    }
   ],
   "source": [
    "print(type(name))"
   ]
  },
  {
   "cell_type": "code",
   "execution_count": 25,
   "id": "127a8a68",
   "metadata": {},
   "outputs": [
    {
     "data": {
      "text/plain": [
       "['nancygupta', 'gmail.com']"
      ]
     },
     "execution_count": 25,
     "metadata": {},
     "output_type": "execute_result"
    }
   ],
   "source": [
    "email=\"nancygupta@gmail.com\"\n",
    "email.split(\"@\")"
   ]
  },
  {
   "cell_type": "code",
   "execution_count": 26,
   "id": "f0f03675",
   "metadata": {},
   "outputs": [
    {
     "name": "stdout",
     "output_type": "stream",
     "text": [
      "nancygupta gmail.com\n"
     ]
    }
   ],
   "source": [
    "email=\"nancygupta@gmail.com\"\n",
    "first,mail=email.split(\"@\")\n",
    "print(first,mail)"
   ]
  },
  {
   "cell_type": "code",
   "execution_count": 27,
   "id": "8ec507ed",
   "metadata": {},
   "outputs": [
    {
     "name": "stdout",
     "output_type": "stream",
     "text": [
      "Enter Number a: 5\n",
      "Enter Number b: 4\n",
      "A is greater\n"
     ]
    }
   ],
   "source": [
    "a=int(input(\"Enter Number a: \"))\n",
    "b=int(input(\"Enter Number b: \"))\n",
    "if a>b:\n",
    "    print(\"A is greater\")\n",
    "else:\n",
    "    print(\"B is greater\")"
   ]
  },
  {
   "cell_type": "code",
   "execution_count": 32,
   "id": "c00f196d",
   "metadata": {},
   "outputs": [
    {
     "name": "stdout",
     "output_type": "stream",
     "text": [
      "Enter the number you want to check:36\n",
      "Not a Prime Number\n"
     ]
    }
   ],
   "source": [
    "'''Prime Number Code CODE 1'''\n",
    "a=int(input(\"Enter the number you want to check:\"))\n",
    "for i in range(2,a):\n",
    "    if a%i==0:\n",
    "        print(\"Not a Prime Number\")\n",
    "        break\n",
    "    else:\n",
    "        print(\"Prime number\")\n",
    "        break"
   ]
  },
  {
   "cell_type": "code",
   "execution_count": 39,
   "id": "c09dfd52",
   "metadata": {},
   "outputs": [
    {
     "name": "stdout",
     "output_type": "stream",
     "text": [
      "Enter:43\n",
      "Prime\n"
     ]
    }
   ],
   "source": [
    "'''Prime Number CODE 2'''\n",
    "a=int(input(\"Enter:\"))\n",
    "c=0\n",
    "for i in range(2,int(a/2)):\n",
    "    if a%i==0:\n",
    "        c+=1\n",
    "if c>1:\n",
    "    print(\"Not Prime\")\n",
    "    #break\n",
    "else:\n",
    "    print(\"Prime\")\n",
    "        #break"
   ]
  },
  {
   "cell_type": "code",
   "execution_count": 41,
   "id": "ed759c04",
   "metadata": {},
   "outputs": [
    {
     "name": "stdout",
     "output_type": "stream",
     "text": [
      "Enter:23\n",
      "Odd Number\n"
     ]
    }
   ],
   "source": [
    "a=int(input(\"Enter:\"))\n",
    "if a%2==0:\n",
    "    print(\"Even Number\")\n",
    "else:\n",
    "    print(\"Odd Number\")\n",
    "\n",
    "    ''' HOMEWORK \n",
    "1  WAP to create a loop from 1 to 100 and print all the prime numbers between them\n",
    "2  WAP to compare three numbers and print which is greater\n",
    "3  WAP to create a grading system on the basis of :\n",
    "A:90 to 100\n",
    "B:70 to 90\n",
    "C:60 to 70\n",
    "'''"
   ]
  },
  {
   "cell_type": "code",
   "execution_count": 1,
   "id": "8253df9a",
   "metadata": {},
   "outputs": [
    {
     "name": "stdout",
     "output_type": "stream",
     "text": [
      "2,3,5,7,11,13,17,19,23,29,31,37,41,43,47,53,59,61,67,71,73,79,83,89,97,"
     ]
    }
   ],
   "source": [
    "for i in range(2,101): \n",
    "    for j in range(2,101):\n",
    "        if i%j == 0:\n",
    "            break\n",
    "    if i == j:\n",
    "        print(i,end=\",\")\n",
    "       "
   ]
  },
  {
   "cell_type": "code",
   "execution_count": 6,
   "id": "e276b205",
   "metadata": {},
   "outputs": [
    {
     "name": "stdout",
     "output_type": "stream",
     "text": [
      "Enter a:67\n",
      "Enter b:99\n",
      "Enter c:54\n",
      "b is greatest\n"
     ]
    }
   ],
   "source": [
    "a=int(input(\"Enter a:\"))\n",
    "b=int(input(\"Enter b:\"))\n",
    "c=int(input(\"Enter c:\"))\n",
    "if a>b:\n",
    "    if a>c:\n",
    "        print(\"a is greatest\")\n",
    "elif b>a:\n",
    "    if b>c:\n",
    "        print(\"b is greatest\")\n",
    "else:\n",
    "    print(\"c is greatest\")"
   ]
  },
  {
   "cell_type": "code",
   "execution_count": 7,
   "id": "cf71eba9",
   "metadata": {},
   "outputs": [
    {
     "name": "stdout",
     "output_type": "stream",
     "text": [
      "Enter your marks86\n",
      "B\n"
     ]
    }
   ],
   "source": [
    "marks=int(input(\"Enter your marks\"))\n",
    "if marks<=100 and marks>=90:\n",
    "    print(\"A\")\n",
    "elif marks<=90 and marks>=70:\n",
    "    print(\"B\")\n",
    "elif marks<=70 and marks>=60:\n",
    "    print(\"C\")\n",
    "else:\n",
    "    print(\"D\")\n",
    "    \n",
    "    "
   ]
  },
  {
   "cell_type": "code",
   "execution_count": 23,
   "id": "7888bc8f",
   "metadata": {},
   "outputs": [
    {
     "name": "stdout",
     "output_type": "stream",
     "text": [
      "1 2 3 N 1.3 N\n"
     ]
    },
    {
     "data": {
      "text/plain": [
       "[1, 2, 3, 4, 5]"
      ]
     },
     "execution_count": 23,
     "metadata": {},
     "output_type": "execute_result"
    }
   ],
   "source": [
    "l1=[1,2,3,\"N\",1.3]\n",
    "for i in l1:\n",
    "    print(i,end=\" \")\n",
    "new=\"Nancy\"\n",
    "print(new[0])\n",
    "l=[1,2,3,4]\n",
    "l.append(5)\n",
    "l"
   ]
  },
  {
   "cell_type": "code",
   "execution_count": 20,
   "id": "640b4afd",
   "metadata": {},
   "outputs": [
    {
     "name": "stdout",
     "output_type": "stream",
     "text": [
      "['N', 'N', 'Y']\n",
      "N N Y "
     ]
    }
   ],
   "source": [
    "l=[\"N\",\"A\",\"N\",\"C\",\"Y\"]\n",
    "new=l[::2]\n",
    "print(new)\n",
    "for i in new:\n",
    "    print(i,end=\" \")\n"
   ]
  },
  {
   "cell_type": "code",
   "execution_count": 36,
   "id": "b9e83119",
   "metadata": {},
   "outputs": [
    {
     "data": {
      "text/plain": [
       "[5, 4, 3, 2, 2, 1]"
      ]
     },
     "execution_count": 36,
     "metadata": {},
     "output_type": "execute_result"
    }
   ],
   "source": [
    "l1=[5,1,2,3,2,4]\n",
    "l1.sort(reverse=True)\n",
    "l1\n"
   ]
  },
  {
   "cell_type": "code",
   "execution_count": 35,
   "id": "9807d316",
   "metadata": {},
   "outputs": [
    {
     "data": {
      "text/plain": [
       "[1, 2, 2, 3, 4, 5]"
      ]
     },
     "execution_count": 35,
     "metadata": {},
     "output_type": "execute_result"
    }
   ],
   "source": [
    "l1=[5,1,2,3,2,4]\n",
    "l2=l1.sort()\n",
    "l1"
   ]
  },
  {
   "cell_type": "code",
   "execution_count": 47,
   "id": "6ec32f18",
   "metadata": {},
   "outputs": [
    {
     "name": "stdout",
     "output_type": "stream",
     "text": [
      "False\n",
      "False\n",
      "True\n"
     ]
    }
   ],
   "source": [
    "l1=[1,2,3]\n",
    "l2=[3,4,5]\n",
    "print(l1>l2)\n",
    "print(l1==l2)\n",
    "print(l1<l2)"
   ]
  },
  {
   "cell_type": "code",
   "execution_count": 53,
   "id": "4cfec8d8",
   "metadata": {},
   "outputs": [
    {
     "data": {
      "text/plain": [
       "2"
      ]
     },
     "execution_count": 53,
     "metadata": {},
     "output_type": "execute_result"
    }
   ],
   "source": [
    "t=(1,2,3)\n",
    "t[1]\n"
   ]
  },
  {
   "cell_type": "code",
   "execution_count": 61,
   "id": "75f40378",
   "metadata": {},
   "outputs": [
    {
     "name": "stdout",
     "output_type": "stream",
     "text": [
      "(1, 2, 3, 4, 5, 6)\n",
      "Minimun : 1\n",
      "Maximun : 6\n"
     ]
    }
   ],
   "source": [
    "t1=(1,2,3)\n",
    "t2=(4,5,6)\n",
    "t1+=t2\n",
    "print(t1)\n",
    "print(\"Minimun :\",min(t1))\n",
    "print(\"Maximun :\",max(t1))"
   ]
  },
  {
   "cell_type": "code",
   "execution_count": 50,
   "id": "7e05b2e3",
   "metadata": {},
   "outputs": [
    {
     "name": "stdout",
     "output_type": "stream",
     "text": [
      "1\n",
      "2\n",
      "3\n"
     ]
    }
   ],
   "source": [
    "for i in t1:\n",
    "    print(i)\n"
   ]
  },
  {
   "cell_type": "code",
   "execution_count": 75,
   "id": "bacc0070",
   "metadata": {
    "scrolled": false
   },
   "outputs": [
    {
     "name": "stdout",
     "output_type": "stream",
     "text": [
      "2234\n",
      "{'Name': 'Shraddha', 'LibID': '2234', 'Address': 'KIET'}\n"
     ]
    }
   ],
   "source": [
    "'''\n",
    "d1={1:\"Nancy\",2:\"Gupta\"}\n",
    "print(d1.values())\n",
    "print(d1.keys())\n",
    "for i in d1:\n",
    "    print(i)\n",
    "    print(d1[i])\n",
    "'''\n",
    "    \n",
    "    \n",
    "d2={\"Name\":\"Shraddha\",\"LibID\":\"2234\"}\n",
    "a=d2.get(\"LibID\")\n",
    "print(a)\n",
    "d2[\"Address\"]=\"KIET\"\n",
    "print(d2)"
   ]
  },
  {
   "cell_type": "code",
   "execution_count": 76,
   "id": "2988e0a6",
   "metadata": {},
   "outputs": [
    {
     "name": "stdout",
     "output_type": "stream",
     "text": [
      "{2: 'Gupta'}\n"
     ]
    }
   ],
   "source": [
    "l1=[{1:\"Nancy\"},{2:\"Gupta\"}]\n",
    "print(l1[1])"
   ]
  },
  {
   "cell_type": "code",
   "execution_count": 2,
   "id": "8f52187e",
   "metadata": {},
   "outputs": [
    {
     "name": "stdout",
     "output_type": "stream",
     "text": [
      "Hello,Nancy!\n"
     ]
    }
   ],
   "source": [
    "def greet(name):\n",
    "    print(\"Hello,\"+name+\"!\")\n",
    "greet(\"Nancy\")"
   ]
  },
  {
   "cell_type": "code",
   "execution_count": 5,
   "id": "74d70a79",
   "metadata": {},
   "outputs": [
    {
     "name": "stdout",
     "output_type": "stream",
     "text": [
      "6\n"
     ]
    }
   ],
   "source": [
    "def add(a,b):\n",
    "    sum=a+b\n",
    "    return sum\n",
    "print(add(2,4))"
   ]
  },
  {
   "cell_type": "code",
   "execution_count": 8,
   "id": "2dd3f42b",
   "metadata": {},
   "outputs": [
    {
     "data": {
      "text/plain": [
       "625"
      ]
     },
     "execution_count": 8,
     "metadata": {},
     "output_type": "execute_result"
    }
   ],
   "source": [
    "def exponent(a,b=2):\n",
    "    c=a**b\n",
    "    return c\n",
    "exponent(5,4)"
   ]
  },
  {
   "cell_type": "code",
   "execution_count": 13,
   "id": "b3fde08e",
   "metadata": {},
   "outputs": [
    {
     "data": {
      "text/plain": [
       "('Nancy', 18)"
      ]
     },
     "execution_count": 13,
     "metadata": {},
     "output_type": "execute_result"
    }
   ],
   "source": [
    "def person(name,age):\n",
    "    return name,age\n",
    "person(\"Nancy\",18)"
   ]
  },
  {
   "cell_type": "code",
   "execution_count": 25,
   "id": "a01b781e",
   "metadata": {},
   "outputs": [
    {
     "name": "stdout",
     "output_type": "stream",
     "text": [
      "Before modifying: 15\n",
      "After modifying: 10\n"
     ]
    }
   ],
   "source": [
    "c=15\n",
    "def update():\n",
    "    global c\n",
    "    c=10\n",
    "print(\"Before modifying:\",c)   \n",
    "update()\n",
    "print(\"After modifying:\",c)"
   ]
  },
  {
   "cell_type": "code",
   "execution_count": 22,
   "id": "03e6b3b6",
   "metadata": {},
   "outputs": [
    {
     "name": "stdout",
     "output_type": "stream",
     "text": [
      "<class 'list'>\n"
     ]
    }
   ],
   "source": [
    "list1=[1,2]\n",
    "print(type(list1))"
   ]
  },
  {
   "cell_type": "code",
   "execution_count": 26,
   "id": "16d318ac",
   "metadata": {},
   "outputs": [],
   "source": [
    "def factorial(n):\n",
    "    if n==0 or n==1:\n",
    "        return 1\n",
    "    else:\n",
    "        return n*factorial(n-1)"
   ]
  },
  {
   "cell_type": "code",
   "execution_count": 30,
   "id": "ac9d8aa7",
   "metadata": {},
   "outputs": [
    {
     "data": {
      "text/plain": [
       "120"
      ]
     },
     "execution_count": 30,
     "metadata": {},
     "output_type": "execute_result"
    }
   ],
   "source": [
    "factorial(5)"
   ]
  },
  {
   "cell_type": "code",
   "execution_count": 37,
   "id": "99089ebb",
   "metadata": {},
   "outputs": [
    {
     "name": "stdout",
     "output_type": "stream",
     "text": [
      "5.0\n"
     ]
    }
   ],
   "source": [
    "expo=lambda x,y:x/y\n",
    "print(expo(15,3))"
   ]
  },
  {
   "cell_type": "markdown",
   "id": "8d732cef",
   "metadata": {},
   "source": []
  },
  {
   "cell_type": "code",
   "execution_count": 43,
   "id": "c51230a5",
   "metadata": {},
   "outputs": [
    {
     "name": "stdout",
     "output_type": "stream",
     "text": [
      "(1, 4, 9)\n"
     ]
    }
   ],
   "source": [
    "#LAMBDA FUNCTIONS\n",
    "l1=(1,2,3)\n",
    "new_l1=tuple(map(lambda x:x**2,l1))\n",
    "print(new_l1)"
   ]
  },
  {
   "cell_type": "code",
   "execution_count": 48,
   "id": "3fb6dd19",
   "metadata": {},
   "outputs": [
    {
     "data": {
      "text/plain": [
       "9"
      ]
     },
     "execution_count": 48,
     "metadata": {},
     "output_type": "execute_result"
    }
   ],
   "source": [
    "#FUNCTION TO PRINT THE LENGTH OF A STRING\n",
    "def length(string):\n",
    "    return len(string)\n",
    "length(\"INNOGEEKS\")"
   ]
  },
  {
   "cell_type": "code",
   "execution_count": 67,
   "id": "9ff55c21",
   "metadata": {},
   "outputs": [
    {
     "name": "stdout",
     "output_type": "stream",
     "text": [
      "Hello\n",
      "Time: 0.0\n"
     ]
    }
   ],
   "source": [
    "import time\n",
    "def timetaken(func):\n",
    "    def wrapper():\n",
    "        st=time.time()\n",
    "        func()\n",
    "        end=time.time()\n",
    "        print(\"Time:\",end-st)\n",
    "    return wrapper\n",
    "@timetaken\n",
    "def func():\n",
    "    print(\"Hello\")\n",
    "func()\n"
   ]
  },
  {
   "cell_type": "code",
   "execution_count": 1,
   "id": "6fe3bec9",
   "metadata": {},
   "outputs": [
    {
     "name": "stdout",
     "output_type": "stream",
     "text": [
      "Enter the number:89\n"
     ]
    },
    {
     "data": {
      "text/plain": [
       "'Odd'"
      ]
     },
     "execution_count": 1,
     "metadata": {},
     "output_type": "execute_result"
    }
   ],
   "source": [
    "def is_even(n):\n",
    "    if n%2==0:\n",
    "        return \"Even\"\n",
    "    else:\n",
    "        return \"Odd\"\n",
    "n=int(input(\"Enter the number:\"))\n",
    "is_even(n)\n"
   ]
  },
  {
   "cell_type": "code",
   "execution_count": 18,
   "id": "41bb78eb",
   "metadata": {},
   "outputs": [
    {
     "ename": "RecursionError",
     "evalue": "maximum recursion depth exceeded",
     "output_type": "error",
     "traceback": [
      "\u001b[1;31m---------------------------------------------------------------------------\u001b[0m",
      "\u001b[1;31mRecursionError\u001b[0m                            Traceback (most recent call last)",
      "Cell \u001b[1;32mIn[18], line 5\u001b[0m\n\u001b[0;32m      3\u001b[0m     \u001b[38;5;28;01mreturn\u001b[39;00m a\n\u001b[0;32m      4\u001b[0m l1\u001b[38;5;241m=\u001b[39m[\u001b[38;5;241m1\u001b[39m,\u001b[38;5;241m2\u001b[39m,\u001b[38;5;241m4\u001b[39m,\u001b[38;5;241m5\u001b[39m,\u001b[38;5;241m78\u001b[39m,\u001b[38;5;241m46\u001b[39m]\n\u001b[1;32m----> 5\u001b[0m maximum(l1)\n",
      "Cell \u001b[1;32mIn[18], line 2\u001b[0m, in \u001b[0;36mmaximum\u001b[1;34m(l1)\u001b[0m\n\u001b[0;32m      1\u001b[0m \u001b[38;5;28;01mdef\u001b[39;00m \u001b[38;5;21mmaximum\u001b[39m(l1):\n\u001b[1;32m----> 2\u001b[0m     a\u001b[38;5;241m=\u001b[39m\u001b[38;5;28mmax\u001b[39m(l1)\n\u001b[0;32m      3\u001b[0m     \u001b[38;5;28;01mreturn\u001b[39;00m a\n",
      "Cell \u001b[1;32mIn[4], line 2\u001b[0m, in \u001b[0;36mmax\u001b[1;34m(l1)\u001b[0m\n\u001b[0;32m      1\u001b[0m \u001b[38;5;28;01mdef\u001b[39;00m \u001b[38;5;21mmax\u001b[39m(l1):\n\u001b[1;32m----> 2\u001b[0m     maximum\u001b[38;5;241m=\u001b[39m\u001b[38;5;28mmax\u001b[39m(l1)\n\u001b[0;32m      3\u001b[0m     \u001b[38;5;28;01mreturn\u001b[39;00m maximum\n",
      "Cell \u001b[1;32mIn[4], line 2\u001b[0m, in \u001b[0;36mmax\u001b[1;34m(l1)\u001b[0m\n\u001b[0;32m      1\u001b[0m \u001b[38;5;28;01mdef\u001b[39;00m \u001b[38;5;21mmax\u001b[39m(l1):\n\u001b[1;32m----> 2\u001b[0m     maximum\u001b[38;5;241m=\u001b[39m\u001b[38;5;28mmax\u001b[39m(l1)\n\u001b[0;32m      3\u001b[0m     \u001b[38;5;28;01mreturn\u001b[39;00m maximum\n",
      "    \u001b[1;31m[... skipping similar frames: max at line 2 (2970 times)]\u001b[0m\n",
      "Cell \u001b[1;32mIn[4], line 2\u001b[0m, in \u001b[0;36mmax\u001b[1;34m(l1)\u001b[0m\n\u001b[0;32m      1\u001b[0m \u001b[38;5;28;01mdef\u001b[39;00m \u001b[38;5;21mmax\u001b[39m(l1):\n\u001b[1;32m----> 2\u001b[0m     maximum\u001b[38;5;241m=\u001b[39m\u001b[38;5;28mmax\u001b[39m(l1)\n\u001b[0;32m      3\u001b[0m     \u001b[38;5;28;01mreturn\u001b[39;00m maximum\n",
      "\u001b[1;31mRecursionError\u001b[0m: maximum recursion depth exceeded"
     ]
    }
   ],
   "source": [
    "#ef maximum(l1):\n",
    "    a=max(l1)\n",
    "    return a\n",
    "l1=[1,2,4,5,78,46]\n",
    "maximum(l1)"
   ]
  },
  {
   "cell_type": "code",
   "execution_count": 7,
   "id": "475133e4",
   "metadata": {},
   "outputs": [
    {
     "ename": "TypeError",
     "evalue": "square() takes 0 positional arguments but 1 was given",
     "output_type": "error",
     "traceback": [
      "\u001b[1;31m---------------------------------------------------------------------------\u001b[0m",
      "\u001b[1;31mTypeError\u001b[0m                                 Traceback (most recent call last)",
      "Cell \u001b[1;32mIn[7], line 4\u001b[0m\n\u001b[0;32m      2\u001b[0m     \u001b[38;5;28;01mreturn\u001b[39;00m x\u001b[38;5;241m*\u001b[39m\u001b[38;5;241m*\u001b[39mx\n\u001b[0;32m      3\u001b[0m x\u001b[38;5;241m=\u001b[39m\u001b[38;5;241m2\u001b[39m\n\u001b[1;32m----> 4\u001b[0m square(x)\n",
      "\u001b[1;31mTypeError\u001b[0m: square() takes 0 positional arguments but 1 was given"
     ]
    }
   ],
   "source": [
    "def square (*,x):\n",
    "    return x**x\n",
    "x=2\n",
    "square(x)"
   ]
  },
  {
   "cell_type": "code",
   "execution_count": 9,
   "id": "b8adf2ca",
   "metadata": {},
   "outputs": [
    {
     "name": "stdout",
     "output_type": "stream",
     "text": [
      "My\n",
      "name\n",
      "is\n",
      "Nancy\n"
     ]
    }
   ],
   "source": [
    "def myfun(*argv):\n",
    "    for arg in argv:\n",
    "        print(arg)\n",
    "myfun(\"My\",\"name\",\"is\",\"Nancy\")"
   ]
  },
  {
   "cell_type": "code",
   "execution_count": 15,
   "id": "7ad4343d",
   "metadata": {},
   "outputs": [
    {
     "name": "stdout",
     "output_type": "stream",
     "text": [
      "The first is: My\n",
      "The second is: name\n",
      "The arguments is: is\n",
      "The arguments is: Nancy\n"
     ]
    }
   ],
   "source": [
    "def myfun(arg,arg1,*argv):\n",
    "    print(\"The first is:\",arg)\n",
    "    print(\"The second is:\",arg1)\n",
    "    for arg in argv:\n",
    "        print(\"The arguments is:\",arg)\n",
    "myfun(\"My\",\"name\",\"is\",\"Nancy\")"
   ]
  },
  {
   "cell_type": "code",
   "execution_count": null,
   "id": "f4042768",
   "metadata": {},
   "outputs": [],
   "source": [
    "def maximum(l1):\n",
    "    a=max(l1)\n",
    "    return a\n",
    "l1=[1,2,4,5,78,46]\n",
    "maximum(l1)"
   ]
  },
  {
   "cell_type": "code",
   "execution_count": 22,
   "id": "8f72bd31",
   "metadata": {},
   "outputs": [
    {
     "name": "stdout",
     "output_type": "stream",
     "text": [
      "Her last name is:Gupta\n"
     ]
    }
   ],
   "source": [
    "def my_function(**kid):\n",
    "    print(\"Her last name is:\"+ kid[\"lname\"])\n",
    "my_function(fname=\"Nancy\",lname=\"Gupta\")"
   ]
  },
  {
   "cell_type": "code",
   "execution_count": 25,
   "id": "fbfd6be2",
   "metadata": {},
   "outputs": [
    {
     "name": "stdout",
     "output_type": "stream",
     "text": [
      "Enter:a\n",
      "error\n",
      "Enter:12\n"
     ]
    }
   ],
   "source": [
    "while True:\n",
    "    try:\n",
    "        x=int(input(\"Enter:\"))\n",
    "        break\n",
    "    except ValueError:\n",
    "        print(\"error\")\n"
   ]
  },
  {
   "cell_type": "code",
   "execution_count": 1,
   "id": "d3739755",
   "metadata": {},
   "outputs": [
    {
     "name": "stdout",
     "output_type": "stream",
     "text": [
      "6\n"
     ]
    }
   ],
   "source": [
    "def maximum(l1):\n",
    "    a=max(l1)\n",
    "    return a\n",
    "l1=[1,2,3,6]\n",
    "max_val=maximum(l1)\n",
    "print(max_val)"
   ]
  },
  {
   "cell_type": "code",
   "execution_count": null,
   "id": "c7798ee7",
   "metadata": {},
   "outputs": [],
   "source": []
  }
 ],
 "metadata": {
  "kernelspec": {
   "display_name": "Python 3 (ipykernel)",
   "language": "python",
   "name": "python3"
  },
  "language_info": {
   "codemirror_mode": {
    "name": "ipython",
    "version": 3
   },
   "file_extension": ".py",
   "mimetype": "text/x-python",
   "name": "python",
   "nbconvert_exporter": "python",
   "pygments_lexer": "ipython3",
   "version": "3.11.5"
  }
 },
 "nbformat": 4,
 "nbformat_minor": 5
}
