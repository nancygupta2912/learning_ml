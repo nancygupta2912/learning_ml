{
 "cells": [
  {
   "cell_type": "code",
   "execution_count": 7,
   "id": "7fed2109",
   "metadata": {},
   "outputs": [
    {
     "data": {
      "text/plain": [
       "array([2, 3, 4])"
      ]
     },
     "execution_count": 7,
     "metadata": {},
     "output_type": "execute_result"
    }
   ],
   "source": [
    "import numpy as np\n",
    "arr=np.array([1,2,3,4,5,6])\n",
    "slice=arr[1:4]\n",
    "slice"
   ]
  },
  {
   "cell_type": "raw",
   "id": "e3b6302b",
   "metadata": {},
   "source": []
  },
  {
   "cell_type": "code",
   "execution_count": 5,
   "id": "58bdf807",
   "metadata": {},
   "outputs": [
    {
     "data": {
      "text/plain": [
       "array([ 1,  2,  3,  4, 99,  6])"
      ]
     },
     "execution_count": 5,
     "metadata": {},
     "output_type": "execute_result"
    }
   ],
   "source": [
    "arr[4]=99\n",
    "arr"
   ]
  },
  {
   "cell_type": "code",
   "execution_count": 6,
   "id": "6f8e853e",
   "metadata": {},
   "outputs": [],
   "source": [
    "arr=np.array([1,2,3],dtype='float64')"
   ]
  },
  {
   "cell_type": "code",
   "execution_count": 12,
   "id": "96d8afd8",
   "metadata": {},
   "outputs": [
    {
     "data": {
      "text/plain": [
       "array([[ 1,  2,  3,  4,  5],\n",
       "       [ 6,  7,  8,  9, 10],\n",
       "       [11, 12, 13, 14, 15]])"
      ]
     },
     "execution_count": 12,
     "metadata": {},
     "output_type": "execute_result"
    }
   ],
   "source": [
    "arr1=np.array(([1,2,3,4,5],[6,7,8,9,10],[11,12,13,14,15]))\n",
    "arr1"
   ]
  },
  {
   "cell_type": "code",
   "execution_count": 14,
   "id": "6f7f8479",
   "metadata": {},
   "outputs": [
    {
     "data": {
      "text/plain": [
       "12"
      ]
     },
     "execution_count": 14,
     "metadata": {},
     "output_type": "execute_result"
    }
   ],
   "source": [
    "arr1[2,1]"
   ]
  },
  {
   "cell_type": "code",
   "execution_count": 15,
   "id": "fcd8ba48",
   "metadata": {},
   "outputs": [
    {
     "data": {
      "text/plain": [
       "array([1, 2])"
      ]
     },
     "execution_count": 15,
     "metadata": {},
     "output_type": "execute_result"
    }
   ],
   "source": [
    "arr1[0,0:2]"
   ]
  },
  {
   "cell_type": "code",
   "execution_count": 24,
   "id": "d7aadacd",
   "metadata": {},
   "outputs": [
    {
     "data": {
      "text/plain": [
       "array([[1, 2, 3, 4],\n",
       "       [6, 7, 8, 9]])"
      ]
     },
     "execution_count": 24,
     "metadata": {},
     "output_type": "execute_result"
    }
   ],
   "source": [
    "arr1[0:2,0:4]"
   ]
  },
  {
   "cell_type": "raw",
   "id": "4b764461",
   "metadata": {},
   "source": []
  },
  {
   "cell_type": "code",
   "execution_count": 20,
   "id": "da534100",
   "metadata": {},
   "outputs": [
    {
     "data": {
      "text/plain": [
       "array([[ 1,  2,  3,  4,  5],\n",
       "       [ 6,  7,  8,  9, 10],\n",
       "       [11, 12, 13, 14, 15]])"
      ]
     },
     "execution_count": 20,
     "metadata": {},
     "output_type": "execute_result"
    }
   ],
   "source": [
    "arr1"
   ]
  },
  {
   "cell_type": "code",
   "execution_count": 34,
   "id": "dcbb82f1",
   "metadata": {},
   "outputs": [
    {
     "data": {
      "text/plain": [
       "array([[[ 1,  2,  3],\n",
       "        [11, 12, 13]],\n",
       "\n",
       "       [[ 4,  5,  6],\n",
       "        [14, 15, 16]],\n",
       "\n",
       "       [[ 7,  8,  9],\n",
       "        [17, 18, 19]]])"
      ]
     },
     "execution_count": 34,
     "metadata": {},
     "output_type": "execute_result"
    }
   ],
   "source": [
    "arr=np.array([[[1,2,3],[11,12,13]],[[4,5,6],[14,15,16]],[[7,8,9],[17,18,19]]])     #3D ARRAY\n",
    "arr"
   ]
  },
  {
   "cell_type": "code",
   "execution_count": 35,
   "id": "f60e66b6",
   "metadata": {},
   "outputs": [
    {
     "data": {
      "text/plain": [
       "19"
      ]
     },
     "execution_count": 35,
     "metadata": {},
     "output_type": "execute_result"
    }
   ],
   "source": [
    "arr[2,1,2]"
   ]
  },
  {
   "cell_type": "code",
   "execution_count": 49,
   "id": "6cb087d8",
   "metadata": {},
   "outputs": [
    {
     "name": "stdout",
     "output_type": "stream",
     "text": [
      "[[[11 12]]\n",
      "\n",
      " [[14 15]]\n",
      "\n",
      " [[17 18]]]\n",
      "[[11 12]\n",
      " [14 15]\n",
      " [17 18]]\n"
     ]
    }
   ],
   "source": [
    "print(arr[0:3,1:2,0:2])\n",
    "print(arr[0:,1,0:2])"
   ]
  },
  {
   "cell_type": "code",
   "execution_count": 50,
   "id": "a7111a84",
   "metadata": {},
   "outputs": [
    {
     "data": {
      "text/plain": [
       "array([[[ 1,  2,  3],\n",
       "        [11, 12, 13]],\n",
       "\n",
       "       [[ 4,  5,  6],\n",
       "        [14, 15, 16]],\n",
       "\n",
       "       [[ 7,  8,  9],\n",
       "        [17, 18, 19]]])"
      ]
     },
     "execution_count": 50,
     "metadata": {},
     "output_type": "execute_result"
    }
   ],
   "source": [
    "arr"
   ]
  },
  {
   "cell_type": "code",
   "execution_count": 51,
   "id": "f2da0dc6",
   "metadata": {},
   "outputs": [
    {
     "data": {
      "text/plain": [
       "19"
      ]
     },
     "execution_count": 51,
     "metadata": {},
     "output_type": "execute_result"
    }
   ],
   "source": [
    "arr[2,1,2]"
   ]
  },
  {
   "cell_type": "code",
   "execution_count": 57,
   "id": "fbbd56fb",
   "metadata": {},
   "outputs": [],
   "source": [
    "arr2=np.array([1,2,3,4,5,6,7,8,9])\n",
    "arr1=arr2.copy()"
   ]
  },
  {
   "cell_type": "code",
   "execution_count": 58,
   "id": "f09fc160",
   "metadata": {},
   "outputs": [
    {
     "data": {
      "text/plain": [
       "array([1, 2, 3, 4, 5, 6, 7, 8, 9])"
      ]
     },
     "execution_count": 58,
     "metadata": {},
     "output_type": "execute_result"
    }
   ],
   "source": [
    "arr1"
   ]
  },
  {
   "cell_type": "code",
   "execution_count": 59,
   "id": "4d91c0cd",
   "metadata": {},
   "outputs": [
    {
     "data": {
      "text/plain": [
       "array([1, 2, 3, 4, 5, 6, 7, 8, 9])"
      ]
     },
     "execution_count": 59,
     "metadata": {},
     "output_type": "execute_result"
    }
   ],
   "source": [
    "arr1[3]=99\n",
    "arr2"
   ]
  },
  {
   "cell_type": "code",
   "execution_count": 60,
   "id": "eff49445",
   "metadata": {},
   "outputs": [
    {
     "data": {
      "text/plain": [
       "array([ 1,  2,  3, 99,  5,  6,  7,  8,  9])"
      ]
     },
     "execution_count": 60,
     "metadata": {},
     "output_type": "execute_result"
    }
   ],
   "source": [
    "arr1"
   ]
  },
  {
   "cell_type": "code",
   "execution_count": 61,
   "id": "a75a91f1",
   "metadata": {},
   "outputs": [
    {
     "name": "stdout",
     "output_type": "stream",
     "text": [
      "[  1 100   3   4   5   6   7   8   9]\n",
      "[ 1  2  3 99  5  6  7  8  9]\n"
     ]
    }
   ],
   "source": [
    "arr2[1]=100\n",
    "print(arr2)\n",
    "print(arr1)"
   ]
  },
  {
   "cell_type": "code",
   "execution_count": 63,
   "id": "3f1fe1af",
   "metadata": {},
   "outputs": [
    {
     "name": "stdout",
     "output_type": "stream",
     "text": [
      "[2 3]\n",
      "[1 2 3]\n",
      "[1 2 3]\n"
     ]
    }
   ],
   "source": [
    "original_arr=np.array([1,2,3])\n",
    "view_arr=original_arr[1:]\n",
    "copy_arr=np.copy(original_arr)\n",
    "print(view_arr)\n",
    "print(copy_arr)\n",
    "print(original_arr)"
   ]
  },
  {
   "cell_type": "code",
   "execution_count": 64,
   "id": "f5c45bc5",
   "metadata": {},
   "outputs": [
    {
     "name": "stdout",
     "output_type": "stream",
     "text": [
      "[1 2 3 4 5 6]\n",
      "[1 2 3 4 5 6]\n"
     ]
    }
   ],
   "source": [
    "arr=np.array([1,2,3,4,5,6])\n",
    "arr_view=arr.view()\n",
    "arr_copy=arr.copy()\n",
    "print(arr_view)\n",
    "print(arr_copy)"
   ]
  },
  {
   "cell_type": "code",
   "execution_count": 90,
   "id": "16545acc",
   "metadata": {},
   "outputs": [
    {
     "name": "stdout",
     "output_type": "stream",
     "text": [
      "[100   2   3   4   5   6]\n",
      "[1 2 3 4 5 6]\n",
      "[100   2   3   4   5   6]\n",
      "None\n"
     ]
    }
   ],
   "source": [
    "arr[0]=100\n",
    "print(arr_view)\n",
    "print(arr_copy)\n",
    "arr\n",
    "print(arr_view.base)\n",
    "print(arr_copy.base)"
   ]
  },
  {
   "cell_type": "code",
   "execution_count": 80,
   "id": "6abc02e8",
   "metadata": {},
   "outputs": [
    {
     "name": "stdout",
     "output_type": "stream",
     "text": [
      "[1 2 3]\n",
      "[1. 2. 3.]\n",
      "['1' '2' '3']\n"
     ]
    }
   ],
   "source": [
    "arr=np.array([1,2,3],dtype='int')\n",
    "print(arr)\n",
    "arr=np.array([1,2,3],dtype='float32')\n",
    "print(arr)\n",
    "arr=np.array([1,2,3],dtype='str')\n",
    "print(arr)"
   ]
  },
  {
   "cell_type": "code",
   "execution_count": 82,
   "id": "c0d0368e",
   "metadata": {
    "scrolled": true
   },
   "outputs": [
    {
     "name": "stdout",
     "output_type": "stream",
     "text": [
      "[100   2   3   4   5   6]\n"
     ]
    }
   ],
   "source": [
    "print(arr_view.base)"
   ]
  },
  {
   "cell_type": "code",
   "execution_count": 83,
   "id": "dc336a59",
   "metadata": {},
   "outputs": [
    {
     "data": {
      "text/plain": [
       "array(['1', '2', '3'], dtype='<U1')"
      ]
     },
     "execution_count": 83,
     "metadata": {},
     "output_type": "execute_result"
    }
   ],
   "source": [
    "arr"
   ]
  },
  {
   "cell_type": "code",
   "execution_count": null,
   "id": "14c5ca2f",
   "metadata": {},
   "outputs": [],
   "source": []
  }
 ],
 "metadata": {
  "kernelspec": {
   "display_name": "Python 3 (ipykernel)",
   "language": "python",
   "name": "python3"
  },
  "language_info": {
   "codemirror_mode": {
    "name": "ipython",
    "version": 3
   },
   "file_extension": ".py",
   "mimetype": "text/x-python",
   "name": "python",
   "nbconvert_exporter": "python",
   "pygments_lexer": "ipython3",
   "version": "3.11.5"
  }
 },
 "nbformat": 4,
 "nbformat_minor": 5
}
